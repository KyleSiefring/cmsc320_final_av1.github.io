{
 "cells": [
  {
   "cell_type": "markdown",
   "metadata": {},
   "source": [
    "# Introductory Analysis of AV1 Entropy Coding\n",
    "\n",
    "__By: Kyle Siefring__\n",
    "\n",
    "In the AV1 video coding format, a new entropy coder was added. An entropy\n",
    "encoder is responsible for compressing the instructions that allow\n",
    "reconstructing the video frame.\n",
    "\n",
    "The advantage of the new entropy coder is that it uses a parallel architecture\n",
    "capable of decoding more than two possibilities in one step. In comparison,\n",
    "previous coders used a serial process that decoded in a binary manner. This was\n",
    "a substantial bottleneck for hardware, which are able to utilize fine-grained\n",
    "parallelization to a much greater extent than CPUs or GPUs. It's also possible\n",
    "to write [SIMD](https://www.sciencedirect.com/topics/computer-science/single-instruction-multiple-data)\n",
    "for this process, so there is also some benefits for CPUs\n",
    "([example](https://code.videolan.org/videolan/dav1d/-/blob/master/src/x86/msac.asm#L264)).\n",
    "\n",
    "To take advantage of this parallelism, data must be encoded from an 'alphabet'\n",
    "of more than 2 'letters' or 'symbol'. The largest supported alphabet size is 16,\n",
    "which allows processing 4-bit long letters. Each alphabet has an associated\n",
    "distribution for each letter, $i$, stored and operated on in the form\n",
    "$1 - CDF_i$ (in [fixed-point arithmetic](https://en.wikipedia.org/wiki/Fixed-point_arithmetic)).\n",
    "This is an approximate of the frequency that takes spatial locality into account\n",
    "(unlike the static behaviour of [huffman coding](https://en.wikipedia.org/wiki/Huffman_coding)).\n",
    "Since this structure for storing distributions is related to the\n",
    "Cumulative Distribution Function, it will be referred to as a CDF.\n",
    "\n",
    "CDFs are generally updated whenever a symbol is encoded. It should be noted\n",
    "that some CDFs have static, hardcoded probabilities, and there is also\n",
    "functionality to turn off updates over some period of time.\n",
    "\n",
    "CDF's are not necessarily global over the entire program. Frames can be split\n",
    "into 'tiles' that have independent CDF 'contexts'. The tiles in the next frame\n",
    "obtain their contexts from the final state of previous contexts or,\n",
    "alternatively, reset to the initial CDFs specified in the standard.\n",
    "\n",
    "In practice, AV1 doesn't take advantage of larger alphabets as much as one\n",
    "would hope. In this tutorial, we will take a file containing a dump of a video's\n",
    "symbol data and analyze the performance of the entropy encoder. We won't be\n",
    "considering any video data that disable updates to CDFs or any of the hardcoded\n",
    "CDFs.\n",
    "\n",
    "daala, the experimental codec that AV1's entropy coder is from, has a [design doc (tex)](https://github.com/xiph/daala/blob/694d4ced7e97f349cd4f54dbfc8c8a69982a54e4/doc/design.tex)\n",
    "that contains more information and backgroud on the entropy coder.\n",
    "\n",
    "## Getting the Data\n",
    "\n",
    "[libaom v3.1.0](https://aomedia.googlesource.com/aom/+/refs/tags/v3.1.0)\n",
    "was used to encode a clip using the following options\n",
    "``aomenc -o <output>.ivf <input> --profile=0 --cpu-used=1 --threads=2 --tile-columns=2 --end-usage=q --cq-level=43``.\n",
    "See ``aomenc --help`` for what these options do.\n",
    "\n",
    "The clip used is a version of ``Netflix_ToddlerFountain_4096x2160_60fps_10bit_420.y4m``\n",
    "(can be found [here](https://media.xiph.org/video/derf/)) that has been\n",
    "converted to 8 bits and downsampled to 1080p using ffmpeg.\n",
    "\n",
    "The encoded video file can be found [here](https://drive.google.com/file/d/1GZ2hx6okLo4Dkh0wKvUHBBK7_lDYDNoL/view?usp=sharing).\n",
    "\n",
    "To dump symbol data, modifications were made to the decoder in libaom. The\n",
    "branch containing those changes can be found [here](https://github.com/KyleSiefring/libaom/tree/symbol_dump_1).\n",
    "Building the encoder\n",
    "is broken on this branch, so it is necessary to run ``make aomdec`` instead of\n",
    "just ``make`` to build successfully. The first 600 out of 1200 frames were\n",
    "decoded using ``../aomdec <input>.ivf -o /dev/null --progress -t 1 --limit=600``.\n",
    "\n",
    "### Format\n",
    "The dumped file contains a list of events and data for each event.\n",
    "\n",
    "Events:\n",
    "- The initial cdf and some descriptors for the event. Descriptors include:\n",
    "    - An id to uniquely identify the individual cdf.\n",
    "    - The function name of the CDF, or a custom name already provided by libaom.$^*$\n",
    "    - Source file and line number that the symbol first encoded on.$^*$\n",
    "- Decode a symbol with update.\n",
    "- Decode a symbol without update (not supported).\n",
    "- Copy CDFs from one context to another.\n",
    "- Change the context symbols are currently being written to.\n",
    "\n",
    "Using these events, we can model the entropy coding process later on.\n",
    "\n",
    "$^*$ Unfortunately, it might be possible for these to be different for one id\n",
    "with two different files.\n",
    "\n",
    "#### Loading The Data In\n",
    "To load this file faster than would have been possible with regular Python,\n",
    "[Cython](https://cython.org/) is used. Cython is a modified version of Python\n",
    "that compiles to C code. The ability to define types of variables and access\n",
    "C APIs helped significantly when dealing with the very granular loads in this\n",
    "code."
   ]
  },
  {
   "cell_type": "code",
   "execution_count": 1,
   "metadata": {
    "collapsed": true
   },
   "outputs": [],
   "source": [
    "import pandas as pd\n",
    "import numpy as np\n",
    "%load_ext Cython\n",
    "import datetime\n",
    "import matplotlib.pyplot as plt\n",
    "import seaborn as sns\n",
    "import scipy.stats"
   ]
  },
  {
   "cell_type": "code",
   "execution_count": 2,
   "metadata": {
    "pycharm": {
     "name": "#%%\n"
    }
   },
   "outputs": [],
   "source": [
    "%%cython\n",
    "\n",
    "# Need to reimport for cython\n",
    "import numpy as np\n",
    "cimport numpy as np\n",
    "import pandas as pd\n",
    "# C libraries\n",
    "from libc.stdio cimport FILE, fopen, fclose, fgetc, fread, feof\n",
    "\n",
    "# Tree that demonstrates the movement of contexts over a video.\n",
    "cdef class ContextTree:\n",
    "    # Starting context that is associated with initial cdfs\n",
    "    cdef public int root_context\n",
    "    # dict mapping to children that copy from a given context\n",
    "    # list of children = dict[parent context]\n",
    "    cdef public dict children\n",
    "\n",
    "    def __init__(self):\n",
    "        self.root_context = 0\n",
    "        self.children = {self.root_context:[]}\n",
    "\n",
    "    def chain_contexts(self, parent, child):\n",
    "        self.children[parent].append(child)\n",
    "        self.children.setdefault(child, [])\n",
    "\n",
    "# Read little endian 16-bit unsigned integer\n",
    "cdef inline int read_u16_le(unsigned char* buf):\n",
    "    return buf[0] | (buf[1] << 8)\n",
    "\n",
    "# Read in a string\n",
    "cdef inline str fread_str(FILE* file, unsigned char* buf):\n",
    "    fread(buf, 1, 1, file)\n",
    "    strlen = buf[0]\n",
    "    fread(buf, 1, strlen, file)\n",
    "    # Convert to a python string\n",
    "    return buf[:strlen].decode()\n",
    "\n",
    "def load_symbol_file(char* filename):\n",
    "    # Use a buffer. Using python libraries has an annoying amount of gc/ref\n",
    "    # counting overhead when only reading a few bytes at a time.\n",
    "    cdef unsigned char buf[255]\n",
    "\n",
    "    # Open a file with the c api.\n",
    "    cdef FILE* file = fopen(filename, 'rb')\n",
    "\n",
    "    # Each row in the dataframe, initialize later\n",
    "    cdef list cdf_df_rows = []\n",
    "\n",
    "    # map of context to\n",
    "    #   map of cdf_id to a bytearray of symbols\n",
    "    cdef dict symbol_data = {}\n",
    "\n",
    "    # map of cdf id to the initial cdf probabilities\n",
    "    cdef dict initial_cdfs = {}\n",
    "\n",
    "    # Lifecycle of cdf contexts\n",
    "    cdef context_tree = ContextTree()\n",
    "\n",
    "    cdef dict current_context = None\n",
    "\n",
    "    # Cache the current cdf for extra performance\n",
    "    cdef int cached_cdf_id = -1\n",
    "    cdef bytearray cached_cdf_symbols = None\n",
    "\n",
    "    # Loop through each event.\n",
    "    while True:\n",
    "        # Read and switch based on event type\n",
    "        event_type = fgetc(file)\n",
    "        if event_type == -1:\n",
    "            # EOF\n",
    "            break\n",
    "        elif event_type == 0:\n",
    "            # initialize defaults cdfs and\n",
    "\n",
    "            # CDF id needs 2 bytes and the alphabet size requires one byte\n",
    "            fread(buf, 1, 3, file)\n",
    "            (cdf_id, alphabet_len) = read_u16_le(buf), buf[2]\n",
    "            name = fread_str(file, buf)\n",
    "            src_file = fread_str(file, buf)\n",
    "            fread(buf, 1, 2, file)\n",
    "            src_line = read_u16_le(buf)\n",
    "\n",
    "            # Remove full path from the file\n",
    "            src_file = src_file[src_file.rfind('/')+1:]\n",
    "            # Append information for a dataframe\n",
    "            cdf_df_rows.append(\n",
    "                [cdf_id, name, src_file, src_line, alphabet_len]\n",
    "            )\n",
    "\n",
    "            # Read in the initial CDF\n",
    "            initial_cdf = np.zeros(alphabet_len, np.uint16)\n",
    "            for i in range(alphabet_len):\n",
    "                fread(buf, 1, 2, file)\n",
    "                initial_cdf[i] = read_u16_le(buf)\n",
    "            initial_cdfs[cdf_id] = initial_cdf\n",
    "        elif event_type == 1:\n",
    "            # read symbol with a context update\n",
    "\n",
    "            fread(buf, 1, 3, file)\n",
    "            symbol, cdf_id = buf[0], read_u16_le(buf + 1)\n",
    "            # Try reusing the cached cdf\n",
    "            if cdf_id != cached_cdf_id:\n",
    "                cached_cdf_id = cdf_id\n",
    "                cached_cdf_symbols = current_context.setdefault(\n",
    "                    cdf_id,\n",
    "                    bytearray()\n",
    "                )\n",
    "            cached_cdf_symbols.append(symbol)\n",
    "        elif event_type == 2:\n",
    "            # read symbol without updating context\n",
    "            print('Symbols encoded without cdf update not supported')\n",
    "        elif event_type == 3:\n",
    "            # copy a previous context into this one\n",
    "\n",
    "            # Read two bytes for each context identifier\n",
    "            fread(buf, 1, 4, file)\n",
    "            parent_context_id = read_u16_le(buf)\n",
    "            child_context_id = read_u16_le(buf + 2)\n",
    "            context_tree.chain_contexts(\n",
    "                parent_context_id, child_context_id\n",
    "            )\n",
    "        elif event_type == 4:\n",
    "            # change the current context\n",
    "\n",
    "            # read what\n",
    "            fread(buf, 1, 2, file)\n",
    "            context_id = read_u16_le(buf)\n",
    "\n",
    "            # This will probably never reuse a context\n",
    "            current_context = symbol_data.setdefault(context_id, {})\n",
    "\n",
    "            # Invalidate the cdf cache\n",
    "            current_cdf_id = -1\n",
    "            current_cdf_symbols = None\n",
    "        else:\n",
    "            print('Unrecognized event read: %d'% event_type)\n",
    "            break\n",
    "    fclose(file)\n",
    "\n",
    "    for x in symbol_data.values():\n",
    "        for (a, b) in x.items():\n",
    "            x[a] = np.array(b, dtype=np.uint8)\n",
    "\n",
    "    df_cdfs = pd.DataFrame(\n",
    "        cdf_df_rows,\n",
    "        columns=['id', 'descriptor', 'src_file', 'line', 'alphabet_len']\n",
    "    )\n",
    "\n",
    "    return symbol_data, context_tree, df_cdfs, initial_cdfs"
   ]
  },
  {
   "cell_type": "markdown",
   "metadata": {
    "pycharm": {
     "name": "#%% md\n"
    }
   },
   "source": [
    "Finally, call the cython function to load our data in."
   ]
  },
  {
   "cell_type": "code",
   "execution_count": 3,
   "outputs": [
    {
     "name": "stdout",
     "output_type": "stream",
     "text": [
      "duration 0:00:19.793273\n"
     ]
    }
   ],
   "source": [
    "# Get the following from load_symbol_file\n",
    "#   (some of these are also documented inside the function)\n",
    "# symbol_data\n",
    "#   Map of context to\n",
    "#       map of cdf_id to symbols\n",
    "# context_tree\n",
    "#   Lifecycle of cdf contexts\n",
    "# df_cdfs\n",
    "#   A list of basic info on the cdfs\n",
    "# initial_cdfs\n",
    "#   Map of cdf id to the initial cdf probabilities\n",
    "\n",
    "# Call the function for loading in events\n",
    "start_time = datetime.datetime.now()\n",
    "symbol_data, context_tree, df_cdfs, initial_cdfs = load_symbol_file(b\"/home/kyle/Programming/VideoEncode/libaom/events.bin\")\n",
    "end_time = datetime.datetime.now()\n",
    "print('duration', end_time - start_time)"
   ],
   "metadata": {
    "collapsed": false,
    "pycharm": {
     "name": "#%%\n"
    }
   }
  },
  {
   "cell_type": "markdown",
   "source": [
    "#### Assessing the Extent of the Problem: Part 1\n",
    "Now, we can examine what size the CDFs are using a bar chart. What would be more\n",
    "useful is to know is how many are symbols are encoded for each alphabet size.\n",
    "This will be done later on."
   ],
   "metadata": {
    "collapsed": false,
    "pycharm": {
     "name": "#%% md\n"
    }
   }
  },
  {
   "cell_type": "code",
   "execution_count": 4,
   "outputs": [
    {
     "data": {
      "text/plain": "<Figure size 432x288 with 1 Axes>",
      "image/png": "[encoded data removed]"
     },
     "metadata": {
      "needs_background": "light"
     },
     "output_type": "display_data"
    }
   ],
   "source": [
    "# Count cdfs alphabets sizes from binary to 16 letters\n",
    "plt.bar(range(2,16+1), np.bincount(df_cdfs.alphabet_len.to_numpy())[2:16+1])\n",
    "plt.ylabel('Number of CDFs')\n",
    "plt.xlabel('Alphabet Length')\n",
    "plt.title('Distribution of Alphabet Sizes over Decoded CDFs')\n",
    "plt.show()"
   ],
   "metadata": {
    "collapsed": false,
    "pycharm": {
     "name": "#%%\n"
    }
   }
  },
  {
   "cell_type": "markdown",
   "source": [
    "It seems that the majority of CDFs are 2-4 bits, which is unfortunate."
   ],
   "metadata": {
    "collapsed": false,
    "pycharm": {
     "name": "#%% md\n"
    }
   }
  },
  {
   "cell_type": "markdown",
   "source": [
    "## Processing the Data\n",
    "\n",
    "We want to run a loop to process and examine the symbol data that we have read.\n",
    "There are a few helper methods and classes that will be useful for doing this.\n",
    "Once again, we are going to use Cython to speed up some of this.\n",
    "\n",
    "We have two important functions here:\n",
    "- One function, `CDFState.update`, updates or 'adapts' the CDF based on a\n",
    "symbol that has been decoded.\n",
    "- The other function, `CDFState.calc_symbol_cost`, takes the probabilities and\n",
    "computes approximately how many bits are needed for that symbol. This is a\n",
    "floating point value; it's very much possible to read a fraction of a bit."
   ],
   "metadata": {
    "collapsed": false,
    "pycharm": {
     "name": "#%% md\n"
    }
   }
  },
  {
   "cell_type": "code",
   "execution_count": 5,
   "metadata": {
    "pycharm": {
     "name": "#%%\n"
    }
   },
   "outputs": [],
   "source": [
    "%%cython\n",
    "\n",
    "import numpy as np\n",
    "cimport numpy as np\n",
    "\n",
    "# Holds everything needed to model the entropy encoding process over one\n",
    "# context. The count held here is reset whenever a new context is created.\n",
    "cdef class CDFState:\n",
    "    # CDF data\n",
    "    cdef public np.ndarray cdf\n",
    "\n",
    "    # Number of symbols encoded so far. Defaults to 0.\n",
    "    cdef public int count\n",
    "\n",
    "    # Minimum probability possible.\n",
    "    # Not actually a minimum, since it is added in between each probability.\n",
    "    # Hard coded as 4 in the standard\n",
    "    cdef int min_prob\n",
    "\n",
    "    # Precalculated log of the actual sum of the integer representation\n",
    "    # of each probability (aka. includes the minimun probability)\n",
    "    cdef float base_prob\n",
    "\n",
    "    def __init__(self, cdf, count = 0):\n",
    "        self.cdf = cdf.copy()\n",
    "        self.count = count\n",
    "\n",
    "        self.min_prob = 4\n",
    "        self.base_prob = np.log2((1<<15) + self.min_prob*len(cdf))\n",
    "\n",
    "    # See https://github.com/xiph/rav1e/blob/c5bc3402475bf6b6190/src/ec.rs#L894\n",
    "    def update(self, int symbol):\n",
    "        cdef np.ndarray[np.uint16_t, ndim=1] cdf = self.cdf\n",
    "        cdef int nsymbols = len(cdf)\n",
    "        cdef int rate = 3 + min((nsymbols + 1) >> 1, 2)\n",
    "\n",
    "        # Adapt quickly with few symbols encoded.\n",
    "        rate += (self.count >> 4)\n",
    "        # Increment count up to 32\n",
    "        self.count += 1 - (self.count >> 5)\n",
    "\n",
    "        # Adapt the probabilities based on the selected probability\n",
    "        for i in range(nsymbols):\n",
    "            if i >= symbol:\n",
    "                cdf[i] -= cdf[i] >> rate\n",
    "            else:\n",
    "                cdf[i] += ((1 << 15) - cdf[i]) >> rate\n",
    "\n",
    "    # Approximate the cost to encode a symbol for a symbol using the current\n",
    "    # cdf.\n",
    "    def calc_symbol_cost(self, int symbol):\n",
    "        cdef np.ndarray[np.uint16_t, ndim=1] cdf = self.cdf\n",
    "        # Get the probability for symbol\n",
    "        #   We want the difference between two cdfs for that.\n",
    "        #   For symbol 0, this is our largest supported value (1<<15)\n",
    "        a = 1<<15\n",
    "        if symbol != 0:\n",
    "            a = int(cdf[symbol - 1])\n",
    "        diff = a - cdf[symbol]\n",
    "\n",
    "        # The cost to encode a bit is log2(1/prob) = log2(1) - log(prob)\n",
    "        # In our fixed point arithmetic implementation, this is\n",
    "        # log((1<<15) + some stuff) - log(fixed point prob)\n",
    "        #\n",
    "        #   Also, convert to float before log for a little extra speedup\n",
    "        return self.base_prob - np.log2(float(diff + self.min_prob))"
   ]
  },
  {
   "cell_type": "markdown",
   "metadata": {
    "pycharm": {
     "name": "#%% md\n"
    }
   },
   "source": [
    "Regardless of what the entropy coder is doing, its useful to know how many of\n",
    "each symbol is used by a given CDF."
   ]
  },
  {
   "cell_type": "code",
   "execution_count": 6,
   "outputs": [],
   "source": [
    "# Used to count the number of symbols used over multiple arrays.\n",
    "# This is useful since every context has a separate array for a CDF's symbols.\n",
    "class SymbolCounters:\n",
    "    def __init__(self, size):\n",
    "        self.counts = np.zeros(size)\n",
    "\n",
    "    # Count the symbols in a array of symbols\n",
    "    def count_symbols(self, symbols):\n",
    "        self.counts += np.bincount(symbols, minlength=len(self.counts))\n",
    "\n",
    "    def __repr__(self):\n",
    "        return self.counts.__repr__()\n",
    "    def __str__(self):\n",
    "        return self.counts.__str__()"
   ],
   "metadata": {
    "collapsed": false,
    "pycharm": {
     "name": "#%%\n"
    }
   }
  },
  {
   "cell_type": "markdown",
   "metadata": {
    "pycharm": {
     "name": "#%% md\n"
    }
   },
   "source": [
    "We can now start processing the symbol data and gathering stat. We are trying\n",
    "to closely emulate the CDF process here.\n",
    "\n",
    "Among the stats gathered for each CDF we have:\n",
    "- $Bits$: The number of bits required for all the symbols.\n",
    "- $\\#\\ Symbols$ (Number of Symbols): Total number of symbols associated with a\n",
    "cdf.\n",
    "- $\\frac{Bits}{\\# Symbol}$ (Bits per Symbol): Simply the average number of bits\n",
    "required for each symbol.\n",
    "- Symbol Counts: Counts how many of each symbol has been used for a CDF.\n",
    "- $\\frac{Bits}{\\#\\ Symbols * \\log_2(Alphabet\\ Length)}$: This ends up being\n",
    "useful. Without using an entropy coder, a symbol from an Alphabet of length $L$\n",
    "can always be encoded in $\\log_2(L)$ bits. This means that a value of the variable\n",
    "nearing 1 (or worse, above!) indicates a symbol that isn't benefiting much from\n",
    "the entropy coder.\n",
    "\n",
    "Plenty of other statistics might be useful; for example: it could be\n",
    "useful to compare\n",
    "[entropy](https://docs.scipy.org/doc/scipy/reference/generated/scipy.stats.entropy.html)\n",
    "to the bits used to assess whether a symbol is benefiting from locality."
   ]
  },
  {
   "cell_type": "code",
   "execution_count": 7,
   "outputs": [
    {
     "name": "stdout",
     "output_type": "stream",
     "text": [
      "duration 0:04:21.025687\n"
     ]
    },
    {
     "data": {
      "text/plain": "        id                   Descriptor     Src File  Line  Alphabet Length  \\\n821   3046       read_coeffs_reverse_2d  decodetxb.c    72                4   \n820   3045       read_coeffs_reverse_2d  decodetxb.c    72                4   \n895   3031       read_coeffs_reverse_2d  decodetxb.c    72                4   \n608   3624             av1_read_tx_type   decodemv.c   652               16   \n10    4004  read_filter_intra_mode_info   decodemv.c   614                5   \n...    ...                          ...          ...   ...              ...   \n1362  3019          read_coeffs_reverse  decodetxb.c    96                4   \n1453  3161       read_coeffs_reverse_2d  decodetxb.c    72                4   \n1332  3386          av1_read_coeffs_txb  decodetxb.c   253                3   \n1283  3419          av1_read_coeffs_txb  decodetxb.c   253                3   \n1481   621          av1_read_coeffs_txb  decodetxb.c   223                2   \n\n         Bits  Num Symbols  Bits / Symbol  \\\n821   8163922      7227032          1.130   \n820   6061286     10515505          0.576   \n895   4031363      2988720          1.349   \n608   3699215      1093206          3.384   \n10    3190683      1594553          2.001   \n...       ...          ...            ...   \n1362        0            1          0.654   \n1453        0           11          0.047   \n1332        0            1          0.127   \n1283        0            4          0.053   \n1481        0            1          0.677   \n\n                                          Symbol Counts  \\\n821               [4181007. 2858190.  153434.   34401.]   \n820   [9.113785e+06 1.385429e+06 1.149100e+04 4.8000...   \n895               [1454813. 1302835.  185517.   45555.]   \n608   [  4223.   5300.   2227.  69144.  26385.  5900...   \n10            [521710. 345616.  95313. 254895. 377019.]   \n...                                                 ...   \n1362                                      [1. 0. 0. 0.]   \n1453                                  [11.  0.  0.  0.]   \n1332                                         [1. 0. 0.]   \n1283                                         [4. 0. 0.]   \n1481                                            [1. 0.]   \n\n      (Bits / Symbol) / log(len(Alp.))  \n821                              0.565  \n820                              0.288  \n895                              0.674  \n608                              0.846  \n10                               0.862  \n...                                ...  \n1362                             0.327  \n1453                             0.023  \n1332                             0.080  \n1283                             0.033  \n1481                             0.677  \n\n[1482 rows x 10 columns]",
      "text/html": "<div>\n<style scoped>\n    .dataframe tbody tr th:only-of-type {\n        vertical-align: middle;\n    }\n\n    .dataframe tbody tr th {\n        vertical-align: top;\n    }\n\n    .dataframe thead th {\n        text-align: right;\n    }\n</style>\n<table border=\"1\" class=\"dataframe\">\n  <thead>\n    <tr style=\"text-align: right;\">\n      <th></th>\n      <th>id</th>\n      <th>Descriptor</th>\n      <th>Src File</th>\n      <th>Line</th>\n      <th>Alphabet Length</th>\n      <th>Bits</th>\n      <th>Num Symbols</th>\n      <th>Bits / Symbol</th>\n      <th>Symbol Counts</th>\n      <th>(Bits / Symbol) / log(len(Alp.))</th>\n    </tr>\n  </thead>\n  <tbody>\n    <tr>\n      <th>821</th>\n      <td>3046</td>\n      <td>read_coeffs_reverse_2d</td>\n      <td>decodetxb.c</td>\n      <td>72</td>\n      <td>4</td>\n      <td>8163922</td>\n      <td>7227032</td>\n      <td>1.130</td>\n      <td>[4181007. 2858190.  153434.   34401.]</td>\n      <td>0.565</td>\n    </tr>\n    <tr>\n      <th>820</th>\n      <td>3045</td>\n      <td>read_coeffs_reverse_2d</td>\n      <td>decodetxb.c</td>\n      <td>72</td>\n      <td>4</td>\n      <td>6061286</td>\n      <td>10515505</td>\n      <td>0.576</td>\n      <td>[9.113785e+06 1.385429e+06 1.149100e+04 4.8000...</td>\n      <td>0.288</td>\n    </tr>\n    <tr>\n      <th>895</th>\n      <td>3031</td>\n      <td>read_coeffs_reverse_2d</td>\n      <td>decodetxb.c</td>\n      <td>72</td>\n      <td>4</td>\n      <td>4031363</td>\n      <td>2988720</td>\n      <td>1.349</td>\n      <td>[1454813. 1302835.  185517.   45555.]</td>\n      <td>0.674</td>\n    </tr>\n    <tr>\n      <th>608</th>\n      <td>3624</td>\n      <td>av1_read_tx_type</td>\n      <td>decodemv.c</td>\n      <td>652</td>\n      <td>16</td>\n      <td>3699215</td>\n      <td>1093206</td>\n      <td>3.384</td>\n      <td>[  4223.   5300.   2227.  69144.  26385.  5900...</td>\n      <td>0.846</td>\n    </tr>\n    <tr>\n      <th>10</th>\n      <td>4004</td>\n      <td>read_filter_intra_mode_info</td>\n      <td>decodemv.c</td>\n      <td>614</td>\n      <td>5</td>\n      <td>3190683</td>\n      <td>1594553</td>\n      <td>2.001</td>\n      <td>[521710. 345616.  95313. 254895. 377019.]</td>\n      <td>0.862</td>\n    </tr>\n    <tr>\n      <th>...</th>\n      <td>...</td>\n      <td>...</td>\n      <td>...</td>\n      <td>...</td>\n      <td>...</td>\n      <td>...</td>\n      <td>...</td>\n      <td>...</td>\n      <td>...</td>\n      <td>...</td>\n    </tr>\n    <tr>\n      <th>1362</th>\n      <td>3019</td>\n      <td>read_coeffs_reverse</td>\n      <td>decodetxb.c</td>\n      <td>96</td>\n      <td>4</td>\n      <td>0</td>\n      <td>1</td>\n      <td>0.654</td>\n      <td>[1. 0. 0. 0.]</td>\n      <td>0.327</td>\n    </tr>\n    <tr>\n      <th>1453</th>\n      <td>3161</td>\n      <td>read_coeffs_reverse_2d</td>\n      <td>decodetxb.c</td>\n      <td>72</td>\n      <td>4</td>\n      <td>0</td>\n      <td>11</td>\n      <td>0.047</td>\n      <td>[11.  0.  0.  0.]</td>\n      <td>0.023</td>\n    </tr>\n    <tr>\n      <th>1332</th>\n      <td>3386</td>\n      <td>av1_read_coeffs_txb</td>\n      <td>decodetxb.c</td>\n      <td>253</td>\n      <td>3</td>\n      <td>0</td>\n      <td>1</td>\n      <td>0.127</td>\n      <td>[1. 0. 0.]</td>\n      <td>0.080</td>\n    </tr>\n    <tr>\n      <th>1283</th>\n      <td>3419</td>\n      <td>av1_read_coeffs_txb</td>\n      <td>decodetxb.c</td>\n      <td>253</td>\n      <td>3</td>\n      <td>0</td>\n      <td>4</td>\n      <td>0.053</td>\n      <td>[4. 0. 0.]</td>\n      <td>0.033</td>\n    </tr>\n    <tr>\n      <th>1481</th>\n      <td>621</td>\n      <td>av1_read_coeffs_txb</td>\n      <td>decodetxb.c</td>\n      <td>223</td>\n      <td>2</td>\n      <td>0</td>\n      <td>1</td>\n      <td>0.677</td>\n      <td>[1. 0.]</td>\n      <td>0.677</td>\n    </tr>\n  </tbody>\n</table>\n<p>1482 rows × 10 columns</p>\n</div>"
     },
     "execution_count": 7,
     "metadata": {},
     "output_type": "execute_result"
    }
   ],
   "source": [
    "start_time = datetime.datetime.now()\n",
    "\n",
    "# Copy the existing cdf data from an old table\n",
    "#   (Personal preference when working in jupyter)\n",
    "df_stats = df_cdfs.copy()\n",
    "df_stats['bits'] = 0\n",
    "df_stats['num_symbols'] = 0\n",
    "df_stats['bits_per_symb'] = np.nan\n",
    "df_stats['symb_counts'] = None\n",
    "\n",
    "# Set up the initial cdfs as a context.\n",
    "context_end_cdfs = {context_tree.root_context: initial_cdfs}\n",
    "\n",
    "# Iterate through each context, yielding a parent and child context.\n",
    "def iter_contexts(tree):\n",
    "    path = [tree.root_context]\n",
    "    while len(path) != 0:\n",
    "        parent = path.pop()\n",
    "        for child in tree.children[parent]:\n",
    "            yield parent, child\n",
    "            path.append(child)\n",
    "\n",
    "# There is an outer loop for each cdf and inner loop that goes over\n",
    "#   each context\n",
    "for cdf_id, initial_cdf in initial_cdfs.items():\n",
    "    num_symbols = 0\n",
    "    cost = 0 # total cost in bits\n",
    "    count = SymbolCounters(len(initial_cdf))\n",
    "\n",
    "    for parent_context, child_context in iter_contexts(context_tree):\n",
    "        # Carry forward cdfs from the parent context\n",
    "        cdf = context_end_cdfs[parent_context][cdf_id]\n",
    "        # The cdf might not have any symbols, but it can still have cdfs\n",
    "        # inherited from it\n",
    "        context_end_cdfs.setdefault(child_context, {})[cdf_id] = cdf\n",
    "        # Load the dict of cdf_ids to symbol data for this context\n",
    "        context = symbol_data[child_context]\n",
    "\n",
    "        # Sometimes a context will be empty and uninitialized.\n",
    "        if context is None:\n",
    "            continue\n",
    "\n",
    "        arr = context.get(cdf_id)\n",
    "        if arr is None:\n",
    "            continue\n",
    "        # Count all of the symbols\n",
    "        num_symbols += len(arr)\n",
    "        count.count_symbols(arr)\n",
    "\n",
    "        # Set up our CDFState with the loaded cdf.\n",
    "        #   This state contains a counter that tweaks the adaption rate at the\n",
    "        #   start.\n",
    "        cdf_state = CDFState(cdf)\n",
    "\n",
    "        # Get the bits used and update the cdfs for every symbol\n",
    "        for symbol in arr:\n",
    "            cost += cdf_state.calc_symbol_cost(symbol)\n",
    "            cdf_state.update(symbol)\n",
    "\n",
    "        # Save the final cdf state for future contexts to carry on from\n",
    "        context_end_cdfs[child_context][cdf_id] = cdf_state.cdf\n",
    "    if num_symbols == 0:\n",
    "        continue\n",
    "\n",
    "    # Store statistics in the cdf_id's row\n",
    "    row = df_stats[df_stats.id == cdf_id].index[0]\n",
    "    df_stats.at[row, 'num_symbols'] = num_symbols\n",
    "    df_stats.at[row, 'bits'] = cost\n",
    "    df_stats.at[row, 'bits_per_symb'] = cost/num_symbols\n",
    "    # Store away the counts for reasons TM\n",
    "    df_stats.at[row, 'symb_counts'] = count\n",
    "\n",
    "df_stats['bits_per_symb_over_lg_alp_len'] =\\\n",
    "    df_stats.bits_per_symb / np.log2(df_stats.alphabet_len)\n",
    "\n",
    "end_time = datetime.datetime.now()\n",
    "print('duration', end_time - start_time)\n",
    "\n",
    "# Returns a version of the data frame with more readable names.\n",
    "# The normal names are useful for indexing, though.\n",
    "def tidy(df):\n",
    "    pd.options.display.float_format = '{:,.3f}'.format\n",
    "    return df.rename(\n",
    "        columns={\n",
    "            'descriptor': 'Descriptor', 'line': 'Line', 'src_file': 'Src File',\n",
    "            'alphabet_len': 'Alphabet Length', 'bits': 'Bits',\n",
    "            'num_symbols': 'Num Symbols', 'bits_per_symb': 'Bits / Symbol',\n",
    "            'symb_counts': 'Symbol Counts',\n",
    "            'bits_per_symb_over_lg_alp_len': '(Bits / Symbol) / log(len(Alp.))'\n",
    "        }\n",
    "    )\n",
    "\n",
    "tidy(df_stats.sort_values('bits', ascending=False))"
   ],
   "metadata": {
    "collapsed": false,
    "pycharm": {
     "name": "#%%\n"
    }
   }
  },
  {
   "cell_type": "markdown",
   "source": [
    "## Analysis\n",
    "#### Assessing the Extent of the Problem: Part 2\n",
    "As promised earlier, we will create a new plot of alphabet lengths.\n",
    "This one is weighted by the number of symbols encoded to get a more realistic\n",
    "picture of the overhead incurred by smaller symbols."
   ],
   "metadata": {
    "collapsed": false,
    "pycharm": {
     "name": "#%% md\n"
    }
   }
  },
  {
   "cell_type": "code",
   "execution_count": 8,
   "outputs": [
    {
     "data": {
      "text/plain": "<Figure size 432x288 with 1 Axes>",
      "image/png": "[encoded data removed]"
     },
     "metadata": {
      "needs_background": "light"
     },
     "output_type": "display_data"
    }
   ],
   "source": [
    "# Count cdfs alphabets sizes from binary to 16 letters\n",
    "counts = np.bincount(\n",
    "    df_stats.alphabet_len,\n",
    "    weights=df_stats.num_symbols\n",
    ")[2:16+1]\n",
    "\n",
    "# Plot the proportion this time. There are too many symbols for the numbers\n",
    "#   to be any more meaningful than a percent.\n",
    "plt.bar(range(2,16+1), counts/counts.sum())\n",
    "plt.ylabel('Proportion of Symbols Decode')\n",
    "plt.xlabel('Alphabet Length')\n",
    "plt.title('Distribution of Alphabet Sizes over Decoded Symbols')\n",
    "plt.show()"
   ],
   "metadata": {
    "collapsed": false,
    "pycharm": {
     "name": "#%%\n"
    }
   }
  },
  {
   "cell_type": "markdown",
   "source": [
    "This is even worse than before $-$ the smaller symbols take up an even bigger\n",
    "portion of symbols compared to unique cdfs."
   ],
   "metadata": {
    "collapsed": false
   }
  },
  {
   "cell_type": "markdown",
   "metadata": {
    "pycharm": {
     "name": "#%% md\n"
    }
   },
   "source": [
    "### Aggregated Statistics\n",
    "In some cases, there seem to be multiple different CDFs for the same line of\n",
    "the decoder source. Since there are over 1000 different CDFs, we should combine\n",
    "these for the initial analysis."
   ]
  },
  {
   "cell_type": "code",
   "execution_count": 9,
   "outputs": [
    {
     "data": {
      "text/plain": "                         Descriptor       Src File  Line  count      Bits  \\\n24           read_coeffs_reverse_2d    decodetxb.c    72    363  71228394   \n22              read_coeffs_reverse    decodetxb.c    96    138   9618261   \n57                   read_partition  decodeframe.c  1295     20   6183295   \n12                 av1_read_tx_type     decodemv.c   652      6   5282366   \n25           read_coeffs_reverse_2d    decodetxb.c    77    137   4779553   \n..                              ...            ...   ...    ...       ...   \n17  loop_restoration_read_sb_coeffs  decodeframe.c  1718      1      2854   \n58                  read_ref_frames     decodemv.c   957      3      1033   \n59                  read_ref_frames     decodemv.c   962      3       713   \n60                  read_ref_frames     decodemv.c   964      3       442   \n19  loop_restoration_read_sb_coeffs  decodeframe.c  1737      1       204   \n\n    Num Symbols  (Bits / Symbol) / log(len(Alp.))  \n24     64343763                             0.554  \n22      9678122                             0.497  \n57      4304588                             0.441  \n12      1746597                             0.782  \n25      2984232                             0.801  \n..          ...                               ...  \n17         3440                             0.524  \n58         2099                             0.493  \n59         1127                             0.634  \n60          913                             0.485  \n19          296                             0.689  \n\n[76 rows x 7 columns]",
      "text/html": "<div>\n<style scoped>\n    .dataframe tbody tr th:only-of-type {\n        vertical-align: middle;\n    }\n\n    .dataframe tbody tr th {\n        vertical-align: top;\n    }\n\n    .dataframe thead th {\n        text-align: right;\n    }\n</style>\n<table border=\"1\" class=\"dataframe\">\n  <thead>\n    <tr style=\"text-align: right;\">\n      <th></th>\n      <th>Descriptor</th>\n      <th>Src File</th>\n      <th>Line</th>\n      <th>count</th>\n      <th>Bits</th>\n      <th>Num Symbols</th>\n      <th>(Bits / Symbol) / log(len(Alp.))</th>\n    </tr>\n  </thead>\n  <tbody>\n    <tr>\n      <th>24</th>\n      <td>read_coeffs_reverse_2d</td>\n      <td>decodetxb.c</td>\n      <td>72</td>\n      <td>363</td>\n      <td>71228394</td>\n      <td>64343763</td>\n      <td>0.554</td>\n    </tr>\n    <tr>\n      <th>22</th>\n      <td>read_coeffs_reverse</td>\n      <td>decodetxb.c</td>\n      <td>96</td>\n      <td>138</td>\n      <td>9618261</td>\n      <td>9678122</td>\n      <td>0.497</td>\n    </tr>\n    <tr>\n      <th>57</th>\n      <td>read_partition</td>\n      <td>decodeframe.c</td>\n      <td>1295</td>\n      <td>20</td>\n      <td>6183295</td>\n      <td>4304588</td>\n      <td>0.441</td>\n    </tr>\n    <tr>\n      <th>12</th>\n      <td>av1_read_tx_type</td>\n      <td>decodemv.c</td>\n      <td>652</td>\n      <td>6</td>\n      <td>5282366</td>\n      <td>1746597</td>\n      <td>0.782</td>\n    </tr>\n    <tr>\n      <th>25</th>\n      <td>read_coeffs_reverse_2d</td>\n      <td>decodetxb.c</td>\n      <td>77</td>\n      <td>137</td>\n      <td>4779553</td>\n      <td>2984232</td>\n      <td>0.801</td>\n    </tr>\n    <tr>\n      <th>...</th>\n      <td>...</td>\n      <td>...</td>\n      <td>...</td>\n      <td>...</td>\n      <td>...</td>\n      <td>...</td>\n      <td>...</td>\n    </tr>\n    <tr>\n      <th>17</th>\n      <td>loop_restoration_read_sb_coeffs</td>\n      <td>decodeframe.c</td>\n      <td>1718</td>\n      <td>1</td>\n      <td>2854</td>\n      <td>3440</td>\n      <td>0.524</td>\n    </tr>\n    <tr>\n      <th>58</th>\n      <td>read_ref_frames</td>\n      <td>decodemv.c</td>\n      <td>957</td>\n      <td>3</td>\n      <td>1033</td>\n      <td>2099</td>\n      <td>0.493</td>\n    </tr>\n    <tr>\n      <th>59</th>\n      <td>read_ref_frames</td>\n      <td>decodemv.c</td>\n      <td>962</td>\n      <td>3</td>\n      <td>713</td>\n      <td>1127</td>\n      <td>0.634</td>\n    </tr>\n    <tr>\n      <th>60</th>\n      <td>read_ref_frames</td>\n      <td>decodemv.c</td>\n      <td>964</td>\n      <td>3</td>\n      <td>442</td>\n      <td>913</td>\n      <td>0.485</td>\n    </tr>\n    <tr>\n      <th>19</th>\n      <td>loop_restoration_read_sb_coeffs</td>\n      <td>decodeframe.c</td>\n      <td>1737</td>\n      <td>1</td>\n      <td>204</td>\n      <td>296</td>\n      <td>0.689</td>\n    </tr>\n  </tbody>\n</table>\n<p>76 rows × 7 columns</p>\n</div>"
     },
     "execution_count": 9,
     "metadata": {},
     "output_type": "execute_result"
    }
   ],
   "source": [
    "# Combine the entries that share file, line, and function\n",
    "group_stats = df_stats.groupby(['descriptor', 'src_file', 'line'])\n",
    "combined = group_stats.agg(\n",
    "    # Count the number of different CDFs\n",
    "    count = ('id', 'count'),\n",
    "    # Combine bits and the number of symbols\n",
    "    bits = ('bits', 'sum'),\n",
    "    num_symbols = ('num_symbols', 'sum'),\n",
    "    # Implement weighted average using the number of symbols for each\n",
    "    bits_per_symb_over_lg_alp_len = (\n",
    "            'bits_per_symb_over_lg_alp_len',\n",
    "            lambda x: np.average(x, weights=df_stats.loc[x.index, 'num_symbols'])\n",
    "        )\n",
    ").reset_index()\n",
    "tidy(combined.sort_values(by='bits', ascending=False))"
   ],
   "metadata": {
    "collapsed": false,
    "pycharm": {
     "name": "#%%\n"
    }
   }
  },
  {
   "cell_type": "markdown",
   "source": [
    "Let's look for group of CDFs with concerning values of\n",
    "$\\frac{Bits}{\\#\\ Symbols * \\log_2(Alphabet\\ Length)}$."
   ],
   "metadata": {
    "collapsed": false,
    "pycharm": {
     "name": "#%% md\n"
    }
   }
  },
  {
   "cell_type": "code",
   "execution_count": 10,
   "outputs": [
    {
     "data": {
      "text/plain": "                    Descriptor     Src File  Line  count     Bits  \\\n51           read_mv_component   decodemv.c   845      2  1828306   \n54           read_mv_component   decodemv.c   858     18  2918517   \n33  read_inter_block_mode_info   decodemv.c  1393      7   637320   \n35  read_inter_block_mode_info   decodemv.c  1430      6   313359   \n27           read_delta_qindex   decodemv.c    95      1    11657   \n11         av1_read_coeffs_txb  decodetxb.c   288     12  3695723   \n66             read_ref_frames   decodemv.c  1003      3  1820503   \n32  read_inter_block_mode_info   decodemv.c  1382      3  1684071   \n40             read_inter_mode   decodemv.c   180      6  1777743   \n53           read_mv_component   decodemv.c   852      2   692471   \n\n    Num Symbols  (Bits / Symbol) / log(len(Alp.))  \n51      1837949                             0.995  \n54      2971692                             0.982  \n33       650564                             0.980  \n35       325193                             0.964  \n27         6074                             0.960  \n11      3975635                             0.930  \n66      1972238                             0.923  \n32      1867023                             0.902  \n40      1972238                             0.901  \n53       798075                             0.868  ",
      "text/html": "<div>\n<style scoped>\n    .dataframe tbody tr th:only-of-type {\n        vertical-align: middle;\n    }\n\n    .dataframe tbody tr th {\n        vertical-align: top;\n    }\n\n    .dataframe thead th {\n        text-align: right;\n    }\n</style>\n<table border=\"1\" class=\"dataframe\">\n  <thead>\n    <tr style=\"text-align: right;\">\n      <th></th>\n      <th>Descriptor</th>\n      <th>Src File</th>\n      <th>Line</th>\n      <th>count</th>\n      <th>Bits</th>\n      <th>Num Symbols</th>\n      <th>(Bits / Symbol) / log(len(Alp.))</th>\n    </tr>\n  </thead>\n  <tbody>\n    <tr>\n      <th>51</th>\n      <td>read_mv_component</td>\n      <td>decodemv.c</td>\n      <td>845</td>\n      <td>2</td>\n      <td>1828306</td>\n      <td>1837949</td>\n      <td>0.995</td>\n    </tr>\n    <tr>\n      <th>54</th>\n      <td>read_mv_component</td>\n      <td>decodemv.c</td>\n      <td>858</td>\n      <td>18</td>\n      <td>2918517</td>\n      <td>2971692</td>\n      <td>0.982</td>\n    </tr>\n    <tr>\n      <th>33</th>\n      <td>read_inter_block_mode_info</td>\n      <td>decodemv.c</td>\n      <td>1393</td>\n      <td>7</td>\n      <td>637320</td>\n      <td>650564</td>\n      <td>0.980</td>\n    </tr>\n    <tr>\n      <th>35</th>\n      <td>read_inter_block_mode_info</td>\n      <td>decodemv.c</td>\n      <td>1430</td>\n      <td>6</td>\n      <td>313359</td>\n      <td>325193</td>\n      <td>0.964</td>\n    </tr>\n    <tr>\n      <th>27</th>\n      <td>read_delta_qindex</td>\n      <td>decodemv.c</td>\n      <td>95</td>\n      <td>1</td>\n      <td>11657</td>\n      <td>6074</td>\n      <td>0.960</td>\n    </tr>\n    <tr>\n      <th>11</th>\n      <td>av1_read_coeffs_txb</td>\n      <td>decodetxb.c</td>\n      <td>288</td>\n      <td>12</td>\n      <td>3695723</td>\n      <td>3975635</td>\n      <td>0.930</td>\n    </tr>\n    <tr>\n      <th>66</th>\n      <td>read_ref_frames</td>\n      <td>decodemv.c</td>\n      <td>1003</td>\n      <td>3</td>\n      <td>1820503</td>\n      <td>1972238</td>\n      <td>0.923</td>\n    </tr>\n    <tr>\n      <th>32</th>\n      <td>read_inter_block_mode_info</td>\n      <td>decodemv.c</td>\n      <td>1382</td>\n      <td>3</td>\n      <td>1684071</td>\n      <td>1867023</td>\n      <td>0.902</td>\n    </tr>\n    <tr>\n      <th>40</th>\n      <td>read_inter_mode</td>\n      <td>decodemv.c</td>\n      <td>180</td>\n      <td>6</td>\n      <td>1777743</td>\n      <td>1972238</td>\n      <td>0.901</td>\n    </tr>\n    <tr>\n      <th>53</th>\n      <td>read_mv_component</td>\n      <td>decodemv.c</td>\n      <td>852</td>\n      <td>2</td>\n      <td>692471</td>\n      <td>798075</td>\n      <td>0.868</td>\n    </tr>\n  </tbody>\n</table>\n</div>"
     },
     "execution_count": 10,
     "metadata": {},
     "output_type": "execute_result"
    }
   ],
   "source": [
    "# Show the highest entries for the metric we are using\n",
    "tidy(\n",
    "    combined.sort_values(\n",
    "        by='bits_per_symb_over_lg_alp_len', ascending=False\n",
    "    )[0:10]\n",
    ")"
   ],
   "metadata": {
    "collapsed": false,
    "pycharm": {
     "name": "#%%\n"
    }
   }
  },
  {
   "cell_type": "markdown",
   "source": [
    "Our first two values are from the same function, `read_mv_component`. Let's\n",
    "look at the libaom source code to see what is being decoded on line 845\n",
    "and 858.\n",
    "\n",
    "[Source Link](https://github.com/KyleSiefring/libaom/blob/5080acdbe8c621deecc9874d3fc99337f05a679b/av1/decoder/decodemv.c#L842-L898)\n",
    "```c\n",
    "842|static int read_mv_component(aom_reader *r, nmv_component *mvcomp,\n",
    "843|                             int use_subpel, int usehp) {\n",
    "844|  int mag, d, fr, hp;\n",
    "845|  const int sign = aom_read_symbol(r, mvcomp->sign_cdf, 2, ACCT_STR);\n",
    "846|  const int mv_class =\n",
    "847|      aom_read_symbol(r, mvcomp->classes_cdf, MV_CLASSES, ACCT_STR);\n",
    "848|  const int class0 = mv_class == MV_CLASS_0;\n",
    "849|\n",
    "850|  // Integer part\n",
    "851|  if (class0) {\n",
    "852|    d = aom_read_symbol(r, mvcomp->class0_cdf, CLASS0_SIZE, ACCT_STR);\n",
    "853|    mag = 0;\n",
    "854|  } else {\n",
    "855|    const int n = mv_class + CLASS0_BITS - 1;  // number of bits\n",
    "856|    d = 0;\n",
    "857|    for (int i = 0; i < n; ++i)\n",
    "858|      d |= aom_read_symbol(r, mvcomp->bits_cdf[i], 2, ACCT_STR) << i;\n",
    "859|    mag = CLASS0_SIZE << (mv_class + 2);\n",
    "860|  }\n",
    "861|\n",
    "862|  if (use_subpel) {\n",
    "863|    // Fractional part\n",
    "864|    fr = aom_read_symbol(r, class0 ? mvcomp->class0_fp_cdf[d] : mvcomp->fp_cdf,\n",
    "865|                         MV_FP_SIZE, ACCT_STR);\n",
    "866|\n",
    "867|    // High precision part (if hp is not used, the default value of the hp is 1)\n",
    "868|    hp = usehp ? aom_read_symbol(\n",
    "869|                     r, class0 ? mvcomp->class0_hp_cdf : mvcomp->hp_cdf, 2,\n",
    "870|                     ACCT_STR)\n",
    "871|               : 1;\n",
    "872|  } else {\n",
    "873|    fr = 3;\n",
    "874|    hp = 1;\n",
    "875|  }\n",
    "876|\n",
    "877|  // Result\n",
    "878|  mag += ((d << 3) | (fr << 1) | hp) + 1;\n",
    "879|  return sign ? -mag : mag;\n",
    "880|}\n",
    "881|\n",
    "882|static INLINE void read_mv(aom_reader *r, MV *mv, const MV *ref,\n",
    "883|                           nmv_context *ctx, MvSubpelPrecision precision) {\n",
    "884|  MV diff = kZeroMv;\n",
    "885|  const MV_JOINT_TYPE joint_type =\n",
    "886|      (MV_JOINT_TYPE)aom_read_symbol(r, ctx->joints_cdf, MV_JOINTS, ACCT_STR);\n",
    "887|\n",
    "888|  if (mv_joint_vertical(joint_type))\n",
    "889|    diff.row = read_mv_component(r, &ctx->comps[0], precision > MV_SUBPEL_NONE,\n",
    "890|                                 precision > MV_SUBPEL_LOW_PRECISION);\n",
    "891|\n",
    "892|  if (mv_joint_horizontal(joint_type))\n",
    "893|    diff.col = read_mv_component(r, &ctx->comps[1], precision > MV_SUBPEL_NONE,\n",
    "894|                                 precision > MV_SUBPEL_LOW_PRECISION);\n",
    "895|\n",
    "896|  mv->row = ref->row + diff.row;\n",
    "897|  mv->col = ref->col + diff.col;\n",
    "898|}\n",
    "```\n",
    "\n",
    "Line 845 encodes the sign of a [motion vector](https://en.wikipedia.org/wiki/Motion_vector) and line 858 encodes\n",
    "individual bits. The CDFs also seem to be split between of the horizontal and\n",
    "vertical components. It makes sense that both of these are close to random\n",
    "given that the highest set bit is based on `mv_class`."
   ],
   "metadata": {
    "collapsed": false
   }
  },
  {
   "cell_type": "markdown",
   "source": [
    "### Motion Vector Bit Coding\n",
    "\n",
    "Let's focus on the motion vector bit CDFs. It would be interesting to know if\n",
    "there are cases\n",
    "where the entropy coder does a very good job of modeling the behaviour.\n",
    "Let's start by looking at the individual statistics for each of our\n",
    "motion vector bit CDFs."
   ],
   "metadata": {
    "collapsed": false,
    "pycharm": {
     "name": "#%% md\n"
    }
   }
  },
  {
   "cell_type": "code",
   "execution_count": 11,
   "outputs": [
    {
     "data": {
      "text/plain": "        id    Bits  Num Symbols  (Bits / Symbol) / log(len(Alp.))\n616   4064  499259       505830                             0.987\n643   4065  390838       393448                             0.993\n644   4066  283242       287289                             0.986\n645   4082  527208       534044                             0.987\n646   4083  384871       388316                             0.991\n647   4084  252527       259398                             0.974\n648   4085  153892       155972                             0.987\n693   4086   75597        78578                             0.962\n703   4067  180782       183101                             0.987\n704   4068   83500        88413                             0.944\n711   4069   31379        34932                             0.898\n712   4070    8738        10393                             0.841\n713   4071    1059         1487                             0.712\n721   4087   32174        35265                             0.912\n722   4088   11591        12525                             0.925\n725   4089    1770         2420                             0.732\n1231  4072      11           71                             0.162\n1290  4090      79          210                             0.380",
      "text/html": "<div>\n<style scoped>\n    .dataframe tbody tr th:only-of-type {\n        vertical-align: middle;\n    }\n\n    .dataframe tbody tr th {\n        vertical-align: top;\n    }\n\n    .dataframe thead th {\n        text-align: right;\n    }\n</style>\n<table border=\"1\" class=\"dataframe\">\n  <thead>\n    <tr style=\"text-align: right;\">\n      <th></th>\n      <th>id</th>\n      <th>Bits</th>\n      <th>Num Symbols</th>\n      <th>(Bits / Symbol) / log(len(Alp.))</th>\n    </tr>\n  </thead>\n  <tbody>\n    <tr>\n      <th>616</th>\n      <td>4064</td>\n      <td>499259</td>\n      <td>505830</td>\n      <td>0.987</td>\n    </tr>\n    <tr>\n      <th>643</th>\n      <td>4065</td>\n      <td>390838</td>\n      <td>393448</td>\n      <td>0.993</td>\n    </tr>\n    <tr>\n      <th>644</th>\n      <td>4066</td>\n      <td>283242</td>\n      <td>287289</td>\n      <td>0.986</td>\n    </tr>\n    <tr>\n      <th>645</th>\n      <td>4082</td>\n      <td>527208</td>\n      <td>534044</td>\n      <td>0.987</td>\n    </tr>\n    <tr>\n      <th>646</th>\n      <td>4083</td>\n      <td>384871</td>\n      <td>388316</td>\n      <td>0.991</td>\n    </tr>\n    <tr>\n      <th>647</th>\n      <td>4084</td>\n      <td>252527</td>\n      <td>259398</td>\n      <td>0.974</td>\n    </tr>\n    <tr>\n      <th>648</th>\n      <td>4085</td>\n      <td>153892</td>\n      <td>155972</td>\n      <td>0.987</td>\n    </tr>\n    <tr>\n      <th>693</th>\n      <td>4086</td>\n      <td>75597</td>\n      <td>78578</td>\n      <td>0.962</td>\n    </tr>\n    <tr>\n      <th>703</th>\n      <td>4067</td>\n      <td>180782</td>\n      <td>183101</td>\n      <td>0.987</td>\n    </tr>\n    <tr>\n      <th>704</th>\n      <td>4068</td>\n      <td>83500</td>\n      <td>88413</td>\n      <td>0.944</td>\n    </tr>\n    <tr>\n      <th>711</th>\n      <td>4069</td>\n      <td>31379</td>\n      <td>34932</td>\n      <td>0.898</td>\n    </tr>\n    <tr>\n      <th>712</th>\n      <td>4070</td>\n      <td>8738</td>\n      <td>10393</td>\n      <td>0.841</td>\n    </tr>\n    <tr>\n      <th>713</th>\n      <td>4071</td>\n      <td>1059</td>\n      <td>1487</td>\n      <td>0.712</td>\n    </tr>\n    <tr>\n      <th>721</th>\n      <td>4087</td>\n      <td>32174</td>\n      <td>35265</td>\n      <td>0.912</td>\n    </tr>\n    <tr>\n      <th>722</th>\n      <td>4088</td>\n      <td>11591</td>\n      <td>12525</td>\n      <td>0.925</td>\n    </tr>\n    <tr>\n      <th>725</th>\n      <td>4089</td>\n      <td>1770</td>\n      <td>2420</td>\n      <td>0.732</td>\n    </tr>\n    <tr>\n      <th>1231</th>\n      <td>4072</td>\n      <td>11</td>\n      <td>71</td>\n      <td>0.162</td>\n    </tr>\n    <tr>\n      <th>1290</th>\n      <td>4090</td>\n      <td>79</td>\n      <td>210</td>\n      <td>0.380</td>\n    </tr>\n  </tbody>\n</table>\n</div>"
     },
     "execution_count": 11,
     "metadata": {},
     "output_type": "execute_result"
    }
   ],
   "source": [
    "# Select all the mv bit cdfs\n",
    "mv_bits_line = 858\n",
    "mv_bits_stats = df_stats[\n",
    "    df_stats.descriptor.str.match('read_mv') & (df_stats.line == mv_bits_line)\n",
    "]\n",
    "tidy(mv_bits_stats[['id', 'bits', 'num_symbols', 'bits_per_symb_over_lg_alp_len']])"
   ],
   "metadata": {
    "collapsed": false,
    "pycharm": {
     "name": "#%%\n"
    }
   }
  },
  {
   "cell_type": "code",
   "execution_count": 12,
   "outputs": [
    {
     "data": {
      "text/plain": "<Figure size 432x288 with 1 Axes>",
      "image/png": "[encoded data removed]"
     },
     "metadata": {
      "needs_background": "light"
     },
     "output_type": "display_data"
    }
   ],
   "source": [
    "# Plot out the metric for each of the stats in a swarm plot.\n",
    "#   This will allow use to better see multiple CDF coalesced in proximity.\n",
    "sns.swarmplot(x=mv_bits_stats.bits_per_symb_over_lg_alp_len)\n",
    "plt.title('Cost of Different Motion Vector Bits CDFs')\n",
    "plt.xlabel('(Bits / Symbol) / (Alphabet Length)')\n",
    "plt.show()"
   ],
   "metadata": {
    "collapsed": false,
    "pycharm": {
     "name": "#%%\n"
    }
   }
  },
  {
   "cell_type": "markdown",
   "source": [
    "There does indeed seem to be some variation among the CDFs. This doesn't mean\n",
    "that the CDFs with higher costs are bad. It's possible that all the CDFs would\n",
    "perform well with a different test clip, or they perform well over segments of\n",
    "the video. Both of these are analysis that would be valuable, but for now we\n",
    "should try to get a good statistical verification that these CDFs aren't\n",
    "modeling a random 50/50 split.\n",
    "\n",
    "#### Hypothesis Testing\n",
    "\n",
    "The previous table indicates that there probably enough symbols on each\n",
    "individual CDF to perform some form of hypothesis testing. The most basic test\n",
    "would be a [one-proportion test](https://en.wikipedia.org/wiki/Binomial_distribution#Normal_approximation).\n",
    "With this test, we can test a hypothesis of the true proportion not being equal\n",
    "to some value.\n",
    "In our case, we want to test against a value of 0.5. When the null hypothesis\n",
    "(p = 0.5) is rejected, then there is justification to believe the symbol data\n",
    "isn't split between two values.\n",
    "\n",
    "Unfortunately, our analysis will be a little tainted due to the samples not\n",
    "being completely independent (which is required for the test) of each other.\n",
    "The concern\n",
    "is that previous encoder decisions will impact future ones. The good news is\n",
    "that there is reason to believe that the motion vectors reasonably independent;\n",
    "since motion vectors point to a block of pixels for the decoder to reference,\n",
    "it would be expensive for the encoder to choose a vector based heavily on\n",
    "previous vectors and not the source material$^*$.\n",
    "\n",
    "Everything being said, it should be okay, but we should be cautious. In this\n",
    "situation, it makes sense to dump a confidence interval of the proportion using\n",
    "a binomial model (the same used for the test). This will help prevent us from\n",
    "going astray by contextualizing the hypothesis test.\n",
    "\n",
    "$^*$ I want to note that decoded motion vectors are generally offset by\n",
    "previous motion vectors. This will make the vectors more dependant, but the\n",
    "point is that we will _probably_ have a representative sample of vectors for\n",
    "an ideal set of encoder decisions."
   ],
   "metadata": {
    "collapsed": false,
    "pycharm": {
     "name": "#%% md\n"
    }
   }
  },
  {
   "cell_type": "code",
   "execution_count": 13,
   "outputs": [
    {
     "data": {
      "text/plain": "<Figure size 432x288 with 1 Axes>",
      "image/png": "[encoded data removed]"
     },
     "metadata": {
      "needs_background": "light"
     },
     "output_type": "display_data"
    },
    {
     "data": {
      "text/plain": "        id  (Bits / Symbol) / log(len(Alp.))  \\\n616   4064                             0.987   \n643   4065                             0.993   \n644   4066                             0.986   \n645   4082                             0.987   \n646   4083                             0.991   \n647   4084                             0.974   \n648   4085                             0.987   \n693   4086                             0.962   \n703   4067                             0.987   \n704   4068                             0.944   \n711   4069                             0.898   \n712   4070                             0.841   \n713   4071                             0.712   \n721   4087                             0.912   \n722   4088                             0.925   \n725   4089                             0.732   \n1231  4072                             0.162   \n1290  4090                             0.380   \n\n     H0: 0 Bit Proportion(p) = 0.5, est p-value  \n616                                   2.47E-323  \n643                                   1.98E-323  \n644                                   1.98E-323  \n645                                   2.47E-323  \n646                                   1.98E-323  \n647                                   1.48E-323  \n648                                   9.88E-324  \n693                                   9.88E-324  \n703                                   1.48E-323  \n704                                   9.88E-324  \n711                                   4.94E-324  \n712                                   4.94E-324  \n713                                    0.00E+00  \n721                                   4.94E-324  \n722                                   4.94E-324  \n725                                    0.00E+00  \n1231                                   8.47E-22  \n1290                                   1.22E-63  ",
      "text/html": "<div>\n<style scoped>\n    .dataframe tbody tr th:only-of-type {\n        vertical-align: middle;\n    }\n\n    .dataframe tbody tr th {\n        vertical-align: top;\n    }\n\n    .dataframe thead th {\n        text-align: right;\n    }\n</style>\n<table border=\"1\" class=\"dataframe\">\n  <thead>\n    <tr style=\"text-align: right;\">\n      <th></th>\n      <th>id</th>\n      <th>(Bits / Symbol) / log(len(Alp.))</th>\n      <th>H0: 0 Bit Proportion(p) = 0.5, est p-value</th>\n    </tr>\n  </thead>\n  <tbody>\n    <tr>\n      <th>616</th>\n      <td>4064</td>\n      <td>0.987</td>\n      <td>2.47E-323</td>\n    </tr>\n    <tr>\n      <th>643</th>\n      <td>4065</td>\n      <td>0.993</td>\n      <td>1.98E-323</td>\n    </tr>\n    <tr>\n      <th>644</th>\n      <td>4066</td>\n      <td>0.986</td>\n      <td>1.98E-323</td>\n    </tr>\n    <tr>\n      <th>645</th>\n      <td>4082</td>\n      <td>0.987</td>\n      <td>2.47E-323</td>\n    </tr>\n    <tr>\n      <th>646</th>\n      <td>4083</td>\n      <td>0.991</td>\n      <td>1.98E-323</td>\n    </tr>\n    <tr>\n      <th>647</th>\n      <td>4084</td>\n      <td>0.974</td>\n      <td>1.48E-323</td>\n    </tr>\n    <tr>\n      <th>648</th>\n      <td>4085</td>\n      <td>0.987</td>\n      <td>9.88E-324</td>\n    </tr>\n    <tr>\n      <th>693</th>\n      <td>4086</td>\n      <td>0.962</td>\n      <td>9.88E-324</td>\n    </tr>\n    <tr>\n      <th>703</th>\n      <td>4067</td>\n      <td>0.987</td>\n      <td>1.48E-323</td>\n    </tr>\n    <tr>\n      <th>704</th>\n      <td>4068</td>\n      <td>0.944</td>\n      <td>9.88E-324</td>\n    </tr>\n    <tr>\n      <th>711</th>\n      <td>4069</td>\n      <td>0.898</td>\n      <td>4.94E-324</td>\n    </tr>\n    <tr>\n      <th>712</th>\n      <td>4070</td>\n      <td>0.841</td>\n      <td>4.94E-324</td>\n    </tr>\n    <tr>\n      <th>713</th>\n      <td>4071</td>\n      <td>0.712</td>\n      <td>0.00E+00</td>\n    </tr>\n    <tr>\n      <th>721</th>\n      <td>4087</td>\n      <td>0.912</td>\n      <td>4.94E-324</td>\n    </tr>\n    <tr>\n      <th>722</th>\n      <td>4088</td>\n      <td>0.925</td>\n      <td>4.94E-324</td>\n    </tr>\n    <tr>\n      <th>725</th>\n      <td>4089</td>\n      <td>0.732</td>\n      <td>0.00E+00</td>\n    </tr>\n    <tr>\n      <th>1231</th>\n      <td>4072</td>\n      <td>0.162</td>\n      <td>8.47E-22</td>\n    </tr>\n    <tr>\n      <th>1290</th>\n      <td>4090</td>\n      <td>0.380</td>\n      <td>1.22E-63</td>\n    </tr>\n  </tbody>\n</table>\n</div>"
     },
     "execution_count": 13,
     "metadata": {},
     "output_type": "execute_result"
    }
   ],
   "source": [
    "# Test our hypothesis on an individual row.\n",
    "def add_hypothesis(row):\n",
    "    counts = row.symb_counts.counts\n",
    "    n = row.num_symbols\n",
    "    p_0bit = counts[0] / n\n",
    "    row['CI'] = np.divide(\n",
    "        scipy.stats.binom.interval(alpha=0.999, n=n, p=p_0bit), n\n",
    "    )\n",
    "    row['H0: 0 Bit Proportion(p) = 0.5, est p-value'] = \"{:.2E}\".format(\n",
    "        scipy.stats.binom_test(p_0bit, n, p=0.5)\n",
    "    )\n",
    "    return row\n",
    "\n",
    "# run hypothesis testing on all rows\n",
    "Hypothesis_table = mv_bits_stats.apply(add_hypothesis, axis=1)\n",
    "\n",
    "# Render confidence intervals\n",
    "for (y, ci) in enumerate(hypothesis_table.CI):\n",
    "    plt.plot(ci, (y,y), color='blue')\n",
    "plt.yticks([])\n",
    "plt.xticks(np.arange(0.2,1.01,.1))\n",
    "plt.xlabel('0 bit Population Proportions')\n",
    "plt.title('Estimated 99.9% C.I. for Bit Proportion for various CDFs')\n",
    "plt.show()\n",
    "\n",
    "tidy(hypothesis_table[[\n",
    "    'id', 'bits_per_symb_over_lg_alp_len',\n",
    "    'H0: 0 Bit Proportion(p) = 0.5, est p-value',\n",
    "]])"
   ],
   "metadata": {
    "collapsed": false,
    "pycharm": {
     "name": "#%%\n"
    }
   }
  },
  {
   "cell_type": "markdown",
   "source": [
    "All$^*$ of our p-values came back as very low. Assuming whatever amount of\n",
    "dependence in our data hasn't completely broken analysis, we can safely reject\n",
    "the null hypothesis that the 0 and 1 bits are split evenly split for our CDFs.\n",
    "\n",
    "The plot of confidence intervals tells an even more interesting story $-$ it\n",
    "seems that 0 bits are more common across all CDFs. This provides a bit more\n",
    "support for our rejecting of the null hypothesises.\n",
    "\n",
    "$^*$ Since we are testing hypothesis for each CDF, we have to be somewhat weary\n",
    "of [p hacking](https://fivethirtyeight.com/features/science-isnt-broken)."
   ],
   "metadata": {
    "collapsed": false,
    "pycharm": {
     "name": "#%% md\n"
    }
   }
  },
  {
   "cell_type": "markdown",
   "source": [
    "### Conclusion\n",
    "\n",
    "It does seem that motion vectors are deriving some benefit from the entropy\n",
    "coder. The real question is if we can find something better than the current\n",
    "implementation. This will require a more data to work with (multiple clips),\n",
    "and additional forms of analysis. Notably, more video clips will provide\n",
    "independent data that can be used for different hypothesis tests.\n",
    "\n",
    "Finally, the encoder also will make decisions based on the new implementation,\n",
    "so we will want to plug any new models in the encoder and measure file size.\n",
    "\n",
    "Useful Resources:\n",
    "- [AV1 spec](https://aomediacodec.github.io/av1-spec/av1-spec.pdf)\n",
    "- [libaom source](https://aomedia.googlesource.com/aom/)"
   ],
   "metadata": {
    "collapsed": false,
    "pycharm": {
     "name": "#%% md\n"
    }
   }
  }
 ],
 "metadata": {
  "kernelspec": {
   "display_name": "Python 3",
   "language": "python",
   "name": "python3"
  },
  "language_info": {
   "codemirror_mode": {
    "name": "ipython",
    "version": 3
   },
   "file_extension": ".py",
   "mimetype": "text/x-python",
   "name": "python",
   "nbconvert_exporter": "python",
   "pygments_lexer": "ipython3",
   "version": "3.8.5"
  }
 },
 "nbformat": 4,
 "nbformat_minor": 1
}